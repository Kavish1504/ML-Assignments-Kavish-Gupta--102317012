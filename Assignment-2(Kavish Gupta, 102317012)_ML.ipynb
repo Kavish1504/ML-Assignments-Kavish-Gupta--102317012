{
 "cells": [
  {
   "cell_type": "markdown",
   "id": "cde215e6-7871-4bd4-8599-87d07e30bc03",
   "metadata": {},
   "source": [
    "# Part-1\n"
   ]
  },
  {
   "cell_type": "markdown",
   "id": "d6fe94c6-f02b-4e76-b126-4a385c8c498f",
   "metadata": {},
   "source": [
    "##### Based on Feature Selection, Cleaning, and Preprocessing to Construct an Input from Data Source \n",
    "\n",
    "(a) Examine the values of each attribute and Select a set of attributes only that would affect to predict \n",
    "future bike buyers to create your input for data mining algorithms. Remove all the unnecessary \n",
    "attributes. (Select features just by analysis). \n",
    "\n",
    "(b) Create a new Data Frame with the selected attributes only. \n",
    "\n",
    "(c) Determine a Data value type (Discrete, or Continuous, then Nominal, Ordinal, Interval, Ratio) of \n",
    "each attribute in your selection to identify preprocessing tasks to create input for your data mining. "
   ]
  },
  {
   "cell_type": "code",
   "execution_count": 6,
   "id": "6a0aa1ea-bffd-46b4-81c2-34e72edd64b6",
   "metadata": {},
   "outputs": [
    {
     "name": "stdout",
     "output_type": "stream",
     "text": [
      "  Gender MaritalStatus  Age        Education  HomeOwnerFlag  NumberCarsOwned  \\\n",
      "0      M             M   38        Bachelors              1                3   \n",
      "1      M             M   53  Partial College              1                2   \n",
      "2      F             S   40        Bachelors              0                3   \n",
      "3      M             M   48  Partial College              1                2   \n",
      "4      M             S   50  Partial College              1                1   \n",
      "\n",
      "   NumberChildrenAtHome  TotalChildren  YearlyIncome  BikeBuyer  \n",
      "0                     0              1         81916          1  \n",
      "1                     1              2         81076          1  \n",
      "2                     0              0         86387          1  \n",
      "3                     1              2         61481          1  \n",
      "4                     0              0         51804          1  \n"
     ]
    }
   ],
   "source": [
    "import pandas as pd\n",
    "from datetime import datetime\n",
    "from sklearn.preprocessing import MaxAbsScaler\n",
    "df=pd.read_csv('AWCustomers.csv')\n",
    "sales=pd.read_csv('AWSales.csv')\n",
    "merged_df=pd.merge(df,sales,on='CustomerID')\n",
    "# print(merged_df.head())\n",
    "merged_df['BirthDate']=pd.to_datetime(merged_df['BirthDate'],errors='coerce') ## converts the birthdate to the format DD-MM-YYY HH:MM:SS\n",
    "merged_df['Age']=datetime.now().year-merged_df['BirthDate'].dt.year ## Calculates age by extracting age from current date and year from birthdate and subtracting them both\n",
    "new_columns=[\n",
    "    'Gender',\n",
    "    'MaritalStatus',\n",
    "    'Age',\n",
    "    'Education',\n",
    "    'HomeOwnerFlag',\n",
    "    'NumberCarsOwned',\n",
    "    'NumberChildrenAtHome',\n",
    "    'TotalChildren',\n",
    "    'YearlyIncome',\n",
    "    'BikeBuyer'  \n",
    "]\n",
    "\n",
    "new_df=merged_df[new_columns]\n",
    "print(new_df.head())"
   ]
  },
  {
   "cell_type": "markdown",
   "id": "82b11915-b5cc-41a2-84f0-330ed66ec242",
   "metadata": {},
   "source": [
    "## Datatype"
   ]
  },
  {
   "cell_type": "markdown",
   "id": "b0e160e0-bf01-472e-b8ca-68359099d9aa",
   "metadata": {},
   "source": [
    "#### Gender - Categorical , Nominal(Binary) - contains only 2 entries Male or Female\n",
    "#### Martial Status - Categorical , Nominal(Binary) - contains only 2 entries Married or Unmarried\n",
    "#### Age - Numerical , Ratio - Has a true Zero point\n",
    "#### Education - Categorical , Ordinal \n",
    "#### Home Owner Flag - Categorical , Nominal(Binary)- Either 0 or 1\n",
    "#### Number of Cars Owned - Numerical , Discrete \n",
    "#### Number of Children at Home -Numerical , Discrete\n",
    "#### Total Children -Numerical , Discrete \n",
    "#### Yearly Income - Numerical , Ratio\n",
    "#### Bike Buyer - Categorical , Nominal(Binary)\n"
   ]
  },
  {
   "cell_type": "markdown",
   "id": "54311759-a16d-4326-8328-a1a3199f6456",
   "metadata": {},
   "source": [
    "# Part-2\n"
   ]
  },
  {
   "cell_type": "markdown",
   "id": "9a6599b1-46d2-4ad3-a5e9-55140963affe",
   "metadata": {},
   "source": [
    "#### Data Preprocessing and Transformation \n",
    "\n",
    "Depending on the data type of each attribute, transform each object from your preprocessed data.  \n",
    "Use all the data rows (~= 18000 rows) with the selected features as input to apply all the tasks below, do \n",
    "not perform each task on the smaller data set that you got from your random sampling result.  \n",
    "\n",
    "(a) Handling Null values \n",
    "\n",
    "(b) Normalization \n",
    "\n",
    "(c) Discretization (Binning) on Continuous attributes or Categorical Attributes with too many different \n",
    "values \n",
    "\n",
    "(d) Standardization/Normalization \n",
    "\n",
    "(e) Binarization (One Hot Encoding) "
   ]
  },
  {
   "cell_type": "code",
   "execution_count": 2,
   "id": "0ef9d879-9385-47ee-be30-a55475472c05",
   "metadata": {},
   "outputs": [
    {
     "name": "stdout",
     "output_type": "stream",
     "text": [
      "Gender                  0\n",
      "MaritalStatus           0\n",
      "Age                     0\n",
      "Education               0\n",
      "HomeOwnerFlag           0\n",
      "NumberCarsOwned         0\n",
      "NumberChildrenAtHome    0\n",
      "TotalChildren           0\n",
      "YearlyIncome            0\n",
      "BikeBuyer               0\n",
      "dtype: int64\n",
      "        Age  HomeOwnerFlag  NumberCarsOwned  NumberChildrenAtHome  \\\n",
      "0  0.400000              1         1.892524             -0.594371   \n",
      "1  0.557895              1         0.798389              1.163279   \n",
      "2  0.421053              0         1.892524             -0.594371   \n",
      "3  0.505263              1         0.798389              1.163279   \n",
      "4  0.526316              1        -0.295746             -0.594371   \n",
      "\n",
      "   TotalChildren  YearlyIncome  BikeBuyer  Gender_F  Gender_M  \\\n",
      "0       0.333333      0.588837          1     False      True   \n",
      "1       0.666667      0.582798          1     False      True   \n",
      "2       0.000000      0.620975          1      True     False   \n",
      "3       0.666667      0.441944          1     False      True   \n",
      "4       0.000000      0.372383          1     False      True   \n",
      "\n",
      "   MaritalStatus_M  MaritalStatus_S  Education_Bachelors  \\\n",
      "0             True            False                 True   \n",
      "1             True            False                False   \n",
      "2            False             True                 True   \n",
      "3             True            False                False   \n",
      "4            False             True                False   \n",
      "\n",
      "   Education_Graduate Degree  Education_High School  \\\n",
      "0                      False                  False   \n",
      "1                      False                  False   \n",
      "2                      False                  False   \n",
      "3                      False                  False   \n",
      "4                      False                  False   \n",
      "\n",
      "   Education_Partial College  Education_Partial High School  AgeGroup_Young  \\\n",
      "0                      False                          False           False   \n",
      "1                       True                          False           False   \n",
      "2                      False                          False           False   \n",
      "3                       True                          False           False   \n",
      "4                       True                          False           False   \n",
      "\n",
      "   AgeGroup_Middle-Aged  AgeGroup_Senior  \n",
      "0                  True            False  \n",
      "1                  True            False  \n",
      "2                  True            False  \n",
      "3                  True            False  \n",
      "4                  True            False  \n"
     ]
    }
   ],
   "source": [
    "## Dropping null values\n",
    "print(new_df.isnull().sum())\n",
    "new_df=new_df.dropna()\n",
    "\n",
    "## Normalisation \n",
    "cols=['Age','YearlyIncome','TotalChildren']\n",
    "scaler=MaxAbsScaler()\n",
    "scaled=scaler.fit_transform(new_df[cols])\n",
    "new_df[cols]=pd.DataFrame(scaled,columns=cols,index=new_df.index)\n",
    "\n",
    "##Discretization\n",
    "new_df['AgeGroup']=pd.cut(\n",
    "    new_df['Age'],\n",
    "    bins=[0,0.3,0.6,1],\n",
    "    labels=['Young','Middle-Aged','Senior']\n",
    ")\n",
    "\n",
    "# print(new_df['AgeGroup'].value_counts())\n",
    "\n",
    "##Standardisation\n",
    "from sklearn.preprocessing import StandardScaler\n",
    "col=['NumberCarsOwned','NumberChildrenAtHome']\n",
    "scaler2=StandardScaler()\n",
    "new_df[col]=scaler2.fit_transform(new_df[col])\n",
    "\n",
    "##Binarization\n",
    "final_df=pd.get_dummies(new_df,columns=['Gender','MaritalStatus','Education','AgeGroup'])\n",
    "print(final_df.head())"
   ]
  },
  {
   "cell_type": "markdown",
   "id": "9ac528be-476d-4ee8-bb1e-57a04fbfcb5e",
   "metadata": {},
   "source": [
    "# Part-3"
   ]
  },
  {
   "cell_type": "code",
   "execution_count": null,
   "id": "a82fb626-653b-4a84-ab5d-201ca06c8afb",
   "metadata": {},
   "outputs": [],
   "source": []
  },
  {
   "cell_type": "code",
   "execution_count": 13,
   "id": "3c908b73-e427-4398-95f2-08a64377b7ef",
   "metadata": {},
   "outputs": [
    {
     "name": "stdout",
     "output_type": "stream",
     "text": [
      "0.631578947368421\n",
      "0.7142857142857143\n",
      "[[0.67485062]]\n"
     ]
    }
   ],
   "source": [
    "from sklearn.metrics.pairwise import cosine_similarity\n",
    "import numpy as np\n",
    "obj1=final_df.iloc[0]\n",
    "obj2=final_df.iloc[1]\n",
    "A=obj1.values\n",
    "B=obj2.values\n",
    "\n",
    "## Simple Matching Coefficient\n",
    "match=np.sum(A==B)\n",
    "size=len(A)\n",
    "smc=match/size\n",
    "print(smc)\n",
    "\n",
    "## Jaccard\n",
    "match=np.sum((A==1) & (B==1))\n",
    "denominator=np.sum((A==1) | (B==1))\n",
    "jaccard=match/denominator\n",
    "print(jaccard)\n",
    "\n",
    "##cosine\n",
    "cosine=cosine_similarity([A],[B])\n",
    "print(cosine)"
   ]
  },
  {
   "cell_type": "code",
   "execution_count": null,
   "id": "e59c3e10-a333-40cb-b9b2-abc87f306ffd",
   "metadata": {},
   "outputs": [],
   "source": []
  }
 ],
 "metadata": {
  "kernelspec": {
   "display_name": "Python 3 (ipykernel)",
   "language": "python",
   "name": "python3"
  },
  "language_info": {
   "codemirror_mode": {
    "name": "ipython",
    "version": 3
   },
   "file_extension": ".py",
   "mimetype": "text/x-python",
   "name": "python",
   "nbconvert_exporter": "python",
   "pygments_lexer": "ipython3",
   "version": "3.13.5"
  }
 },
 "nbformat": 4,
 "nbformat_minor": 5
}
