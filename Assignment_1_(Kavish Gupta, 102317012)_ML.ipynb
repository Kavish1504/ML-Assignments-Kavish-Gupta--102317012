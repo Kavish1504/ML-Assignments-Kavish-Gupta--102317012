{
 "cells": [
  {
   "cell_type": "markdown",
   "id": "8165f047-00ea-431c-a00a-e45332d9a561",
   "metadata": {},
   "source": [
    "## Q1"
   ]
  },
  {
   "cell_type": "markdown",
   "id": "f1d0318d-f301-4fc2-9214-49dc60a26f56",
   "metadata": {},
   "source": [
    "(a) Reverse the NumPy array: arr = np.array([1, 2, 3, 6, 4, 5]) \n",
    "\n",
    "(b) Flatten the NumPy arr: array1 = np.array([[1, 2, 3], [2, 4, 5], [1, 2, 3]]) using any two \n",
    "NumPy in-built methods \n",
    "\n",
    "(c) Compare the following numpy arrays: \n",
    "\n",
    "arr1 = np.array([[1, 2], [3, 4]])\n",
    "\n",
    "arr2 = np.array([[1, 2], [3, 4]]) \n",
    "\n",
    "(d) Find the most frequent value and their indice(s) in the following arrays: \n",
    "\n",
    "i. x = np.array([1,2,3,4,5,1,2,1,1,1]) \n",
    "\n",
    "ii. y = np.array([1, 1, 1, 2, 3, 4, 2, 4, 3, 3, ]) \n",
    "\n",
    "(e) For the array gfg = np.matrix('[4, 1, 9; 12, 3, 1; 4, 5, 6]'), find \n",
    "\n",
    "i. Sum of all elements \n",
    "\n",
    "ii. Sum of all elements row-wise\n",
    "\n",
    "iii. Sum of all elements column-wise \n",
    " \n",
    "(f) For the matrix: n_array = np.array([[55, 25, 15],[30, 44, 2],[11, 45, 77]]), find \n",
    "\n",
    "i. Sum of diagonal elements \n",
    "\n",
    "ii. Eigen values of matrix\n",
    "\n",
    "iii. Eigen vectors of matrix \n",
    "\n",
    "iv. Inverse of matrix \n",
    "\n",
    "v. Determinant of matrix  \n",
    " \n",
    "(g) Multiply the following matrices and also find covariance between matrices using NumPy: \n",
    "\n",
    "i. p = [[1, 2], [2, 3]] \n",
    "\n",
    "   q = [[4, 5], [6, 7]] \n",
    "\n",
    "ii. p = [[1, 2], [2, 3], [4, 5]] \n",
    "\n",
    "    q = [[4, 5, 1], [6, 7, 2]] \n",
    "\n",
    "(h) For the matrices: x = np.array([[2, 3, 4], [3, 2, 9]]); y = np.array([[1, 5, 0], [5, 10, 3]]), \n",
    "find inner, outer and cartesian product? "
   ]
  },
  {
   "cell_type": "code",
   "execution_count": 1,
   "id": "4761ab03",
   "metadata": {},
   "outputs": [
    {
     "name": "stdout",
     "output_type": "stream",
     "text": [
      "[5 4 3 2 1]\n"
     ]
    }
   ],
   "source": [
    "import numpy as np\n",
    "arr=np.array([1,2,3,4,5])\n",
    "reversed_arr=np.flip(arr)\n",
    "print(reversed_arr)"
   ]
  },
  {
   "cell_type": "code",
   "execution_count": 2,
   "id": "1b4eebe3",
   "metadata": {},
   "outputs": [
    {
     "name": "stdout",
     "output_type": "stream",
     "text": [
      "[1 2 3 2 4 5 1 2 3]\n"
     ]
    }
   ],
   "source": [
    "arr=np.array([[1,2,3],[2,4,5],[1,2,3]])\n",
    "flattened=arr.flatten()\n",
    "print(flattened)"
   ]
  },
  {
   "cell_type": "code",
   "execution_count": 3,
   "id": "26f69dd5",
   "metadata": {},
   "outputs": [
    {
     "name": "stdout",
     "output_type": "stream",
     "text": [
      "[[ True  True]\n",
      " [ True  True]]\n"
     ]
    }
   ],
   "source": [
    "x=np.array([[1,2],[3,4]])\n",
    "y=np.array([[1,2],[3,4]])\n",
    "result=np.equal(x,y)\n",
    "print(result)\n"
   ]
  },
  {
   "cell_type": "code",
   "execution_count": 4,
   "id": "2d08f104",
   "metadata": {},
   "outputs": [
    {
     "name": "stdout",
     "output_type": "stream",
     "text": [
      "[0 5 2 1 1 1]\n",
      "1\n",
      "(array([0, 5, 7, 8, 9]),)\n"
     ]
    }
   ],
   "source": [
    "x=np.array([1,2,3,4,5,1,2,1,1,1])\n",
    "ans=np.bincount(x)\n",
    "print(ans)\n",
    "freq=np.argmax(ans)\n",
    "print(freq)\n",
    "print(np.where(x==freq))"
   ]
  },
  {
   "cell_type": "code",
   "execution_count": 5,
   "id": "3ab35875",
   "metadata": {},
   "outputs": [
    {
     "name": "stdout",
     "output_type": "stream",
     "text": [
      "[0 5 2 1 1 1]\n",
      "(array([0, 5, 7, 8, 9]),)\n"
     ]
    }
   ],
   "source": [
    "y=np.array([1,1,1,2,3,4,2,4,3,3])\n",
    "ans=np.bincount(x)\n",
    "print(ans)\n",
    "freq=np.argmax(ans)\n",
    "print(np.where(x==freq))"
   ]
  },
  {
   "cell_type": "code",
   "execution_count": 6,
   "id": "fdc22d8b",
   "metadata": {},
   "outputs": [
    {
     "name": "stdout",
     "output_type": "stream",
     "text": [
      "45\n",
      "Sum of Rows are:\n",
      "[[14]\n",
      " [16]\n",
      " [15]]\n",
      "Sum of Columns are:\n",
      "[[20  9 16]]\n"
     ]
    }
   ],
   "source": [
    "gfg=np.matrix('[4,1,9;12,3,1;4,5,6]')\n",
    "print(np.sum(gfg))\n",
    "print(\"Sum of Rows are:\")\n",
    "print(np.sum(gfg,axis=1))\n",
    "print(\"Sum of Columns are:\")\n",
    "print(np.sum(gfg,axis=0))"
   ]
  },
  {
   "cell_type": "code",
   "execution_count": 7,
   "id": "32eeb1df",
   "metadata": {},
   "outputs": [
    {
     "name": "stdout",
     "output_type": "stream",
     "text": [
      "176\n",
      "Eigen Values are: [98.16835147 28.097044   49.73460452]\n",
      "Eigen Vectors are: [[ 0.4574917   0.34637121 -0.15017693]\n",
      " [ 0.28447814 -0.72784061 -0.4852124 ]\n",
      " [ 0.84248058  0.59184038  0.8614034 ]]\n",
      "Inverse of the matrix is:\n",
      "[[ 0.02404141 -0.00911212 -0.00444671]\n",
      " [-0.01667882  0.02966905  0.0024785 ]\n",
      " [ 0.00631287 -0.01603732  0.01217379]]\n",
      "Determinant of the matrix is: 137180.0000000001\n"
     ]
    }
   ],
   "source": [
    "n_array=np.array([[55,25,15],[30,44,2],[11,45,77]])\n",
    "print(np.trace(n_array))\n",
    "eigenvalues,eigenvectors=np.linalg.eig(n_array)\n",
    "print(\"Eigen Values are:\",eigenvalues)\n",
    "print(\"Eigen Vectors are:\",eigenvectors)\n",
    "print(\"Inverse of the matrix is:\")\n",
    "print(np.linalg.inv(n_array))\n",
    "print(\"Determinant of the matrix is:\",np.linalg.det(n_array))"
   ]
  },
  {
   "cell_type": "code",
   "execution_count": 16,
   "id": "7ec3b7a3",
   "metadata": {},
   "outputs": [
    {
     "name": "stdout",
     "output_type": "stream",
     "text": [
      "[[16 19]\n",
      " [26 31]]\n",
      "Covariance between matrices are: [[0.5 0.5 0.5 0.5]\n",
      " [0.5 0.5 0.5 0.5]\n",
      " [0.5 0.5 0.5 0.5]\n",
      " [0.5 0.5 0.5 0.5]]\n"
     ]
    }
   ],
   "source": [
    "p=np.array([[1,2],[2,3]])\n",
    "q=np.array([[4,5],[6,7]])\n",
    "multiplied=np.dot(p,q)\n",
    "print(multiplied)\n",
    "print(\"Covariance between matrices are:\",np.cov(p,q))"
   ]
  },
  {
   "cell_type": "code",
   "execution_count": 15,
   "id": "49cb2ccc",
   "metadata": {},
   "outputs": [
    {
     "ename": "ValueError",
     "evalue": "shapes (2,3) and (2,3) not aligned: 3 (dim 1) != 2 (dim 0)",
     "output_type": "error",
     "traceback": [
      "\u001b[1;31m---------------------------------------------------------------------------\u001b[0m",
      "\u001b[1;31mValueError\u001b[0m                                Traceback (most recent call last)",
      "Cell \u001b[1;32mIn[15], line 3\u001b[0m\n\u001b[0;32m      1\u001b[0m p\u001b[38;5;241m=\u001b[39mnp\u001b[38;5;241m.\u001b[39marray([[\u001b[38;5;241m1\u001b[39m,\u001b[38;5;241m2\u001b[39m],[\u001b[38;5;241m2\u001b[39m,\u001b[38;5;241m3\u001b[39m],[\u001b[38;5;241m4\u001b[39m,\u001b[38;5;241m5\u001b[39m]])\n\u001b[0;32m      2\u001b[0m q\u001b[38;5;241m=\u001b[39mnp\u001b[38;5;241m.\u001b[39marray([[\u001b[38;5;241m4\u001b[39m,\u001b[38;5;241m5\u001b[39m,\u001b[38;5;241m1\u001b[39m],[\u001b[38;5;241m6\u001b[39m,\u001b[38;5;241m7\u001b[39m,\u001b[38;5;241m2\u001b[39m]])\n\u001b[1;32m----> 3\u001b[0m multiplied\u001b[38;5;241m=\u001b[39mnp\u001b[38;5;241m.\u001b[39minner(q,p)\n\u001b[0;32m      4\u001b[0m \u001b[38;5;28mprint\u001b[39m(multiplied)\n\u001b[0;32m      5\u001b[0m \u001b[38;5;28mprint\u001b[39m(\u001b[38;5;124m\"\u001b[39m\u001b[38;5;124mCovariance between matrices are:\u001b[39m\u001b[38;5;124m\"\u001b[39m,np\u001b[38;5;241m.\u001b[39mcov(p,q))\n",
      "\u001b[1;31mValueError\u001b[0m: shapes (2,3) and (2,3) not aligned: 3 (dim 1) != 2 (dim 0)"
     ]
    }
   ],
   "source": [
    "p=np.array([[1,2],[2,3],[4,5]])\n",
    "q=np.array([[4,5,1],[6,7,2]])\n",
    "multiplied=np.inner(q,p)\n",
    "print(multiplied)\n",
    "print(\"Covariance between matrices are:\",np.cov(p,q))"
   ]
  },
  {
   "cell_type": "code",
   "execution_count": 13,
   "id": "711a32e9",
   "metadata": {},
   "outputs": [
    {
     "name": "stdout",
     "output_type": "stream",
     "text": [
      "Cartesian Product is:\n",
      "[[ 2  1]\n",
      " [ 2  5]\n",
      " [ 2  0]\n",
      " [ 2  5]\n",
      " [ 2 10]\n",
      " [ 2  3]\n",
      " [ 3  1]\n",
      " [ 3  5]\n",
      " [ 3  0]\n",
      " [ 3  5]\n",
      " [ 3 10]\n",
      " [ 3  3]\n",
      " [ 4  1]\n",
      " [ 4  5]\n",
      " [ 4  0]\n",
      " [ 4  5]\n",
      " [ 4 10]\n",
      " [ 4  3]\n",
      " [ 3  1]\n",
      " [ 3  5]\n",
      " [ 3  0]\n",
      " [ 3  5]\n",
      " [ 3 10]\n",
      " [ 3  3]\n",
      " [ 2  1]\n",
      " [ 2  5]\n",
      " [ 2  0]\n",
      " [ 2  5]\n",
      " [ 2 10]\n",
      " [ 2  3]\n",
      " [ 9  1]\n",
      " [ 9  5]\n",
      " [ 9  0]\n",
      " [ 9  5]\n",
      " [ 9 10]\n",
      " [ 9  3]]\n",
      "Inner product is: [[17 52]\n",
      " [13 62]]\n",
      "Outer product is: [[ 2 10  0 10 20  6]\n",
      " [ 3 15  0 15 30  9]\n",
      " [ 4 20  0 20 40 12]\n",
      " [ 3 15  0 15 30  9]\n",
      " [ 2 10  0 10 20  6]\n",
      " [ 9 45  0 45 90 27]]\n"
     ]
    }
   ],
   "source": [
    "from itertools import product\n",
    "x=np.array([[2,3,4],[3,2,9]])\n",
    "y=np.array([[1,5,0],[5,10,3]])\n",
    "print(\"Cartesian Product is:\")\n",
    "print(np.array(list(product(x.flatten(),y.flatten()))))\n",
    "print(\"Inner product is:\",np.inner(x,y))\n",
    "print(\"Outer product is:\",np.outer(x,y))"
   ]
  },
  {
   "cell_type": "markdown",
   "id": "b0192ceb",
   "metadata": {},
   "source": [
    "## Q2:-\n"
   ]
  },
  {
   "cell_type": "markdown",
   "id": "5cbfd174-2524-4e8e-9070-dbced43cc51d",
   "metadata": {},
   "source": [
    "(a) For the array: array = np.array([[1, -2, 3],[-4, 5, -6]])\n",
    "\n",
    "i. Find element-wise absolute value \n",
    "\n",
    "ii. Find the 25th, 50th, and 75th percentile of flattened array, for each column, for each \n",
    "row.\n",
    "\n",
    "iii. Mean, Median and Standard Deviation of flattened array, of each column, and \n",
    "each row \n",
    "\n",
    "(b) For the array: a = np.array([-1.8, -1.6, -0.5, 0.5,1.6, 1.8, 3.0]). Find floor, ceiling \n",
    "and truncated value, rounded values \n",
    "\n",
    "\n",
    " \n",
    "\n",
    "\n"
   ]
  },
  {
   "cell_type": "code",
   "execution_count": 24,
   "id": "c2ceb87d-6947-4b1c-a9a6-10d1519334db",
   "metadata": {},
   "outputs": [
    {
     "name": "stdout",
     "output_type": "stream",
     "text": [
      "[[1 2 3]\n",
      " [4 5 6]]\n",
      "25,50,75 Percentile of flattened array:\n",
      "-3.5\n",
      "-0.5\n",
      "2.5\n",
      "25,50,75 Percentile of each column:\n",
      "[-2.75 -0.25 -3.75]\n",
      "[-1.5  1.5 -1.5]\n",
      "[-0.25  3.25  0.75]\n",
      "25,50,75 Percentile of each row:\n",
      "[-0.5 -5. ]\n",
      "[ 1. -4.]\n",
      "[2.  0.5]\n"
     ]
    }
   ],
   "source": [
    "array=np.array([[1,-2,3],[-4,5,-6]])\n",
    "print(np.abs(array))\n",
    "flattened=array.flatten()\n",
    "print(\"25,50,75 Percentile of flattened array:\")\n",
    "print(np.percentile(flattened,25))\n",
    "print(np.percentile(flattened,50))\n",
    "print(np.percentile(flattened,75))\n",
    "print(\"25,50,75 Percentile of each column:\")\n",
    "print(np.percentile(array,25,axis=0))\n",
    "print(np.percentile(array,50,axis=0))\n",
    "print(np.percentile(array,75,axis=0))\n",
    "print(\"25,50,75 Percentile of each row:\")\n",
    "print(np.percentile(array,25,axis=1))\n",
    "print(np.percentile(array,50,axis=1))\n",
    "print(np.percentile(array,75,axis=1))"
   ]
  },
  {
   "cell_type": "code",
   "execution_count": 25,
   "id": "5b3828e1",
   "metadata": {},
   "outputs": [
    {
     "name": "stdout",
     "output_type": "stream",
     "text": [
      "Mean,Median,Standard Deviation of flattened Array\n",
      "-0.5\n",
      "-0.5\n",
      "3.8622100754188224\n",
      "Mean,Median,Standard Deviation of each column\n",
      "[-1.5  1.5 -1.5]\n",
      "[-1.5  1.5 -1.5]\n",
      "[2.5 3.5 4.5]\n",
      "Mean,Median,Standard Deviation of each row\n",
      "[ 0.66666667 -1.66666667]\n",
      "[ 1. -4.]\n",
      "[2.05480467 4.78423336]\n"
     ]
    }
   ],
   "source": [
    "print(\"Mean,Median,Standard Deviation of flattened Array\")\n",
    "print(np.mean(flattened))\n",
    "print(np.median(flattened))\n",
    "print(np.std(flattened))\n",
    "print(\"Mean,Median,Standard Deviation of each column\")\n",
    "print(np.mean(array,axis=0))\n",
    "print(np.median(array,axis=0))\n",
    "print(np.std(array,axis=0))\n",
    "print(\"Mean,Median,Standard Deviation of each row\")\n",
    "print(np.mean(array,axis=1))\n",
    "print(np.median(array,axis=1))\n",
    "print(np.std(array,axis=1))"
   ]
  },
  {
   "cell_type": "code",
   "execution_count": 26,
   "id": "316e9b48",
   "metadata": {},
   "outputs": [
    {
     "name": "stdout",
     "output_type": "stream",
     "text": [
      "[-1. -1. -0.  1.  2.  2.  3.]\n",
      "[-2. -2. -1.  0.  1.  1.  3.]\n",
      "[-1. -1. -0.  0.  1.  1.  3.]\n",
      "[-2. -2. -0.  0.  2.  2.  3.]\n"
     ]
    }
   ],
   "source": [
    "a=np.array([-1.8,-1.6,-0.5,0.5,1.6,1.8,3.0])\n",
    "print(np.ceil(a))\n",
    "print(np.floor(a))\n",
    "print(np.trunc(a))\n",
    "print(np.round(a))"
   ]
  },
  {
   "cell_type": "markdown",
   "id": "fead1ff1-bede-45eb-84cd-706c1406e6c4",
   "metadata": {},
   "source": [
    "## Q3"
   ]
  },
  {
   "cell_type": "markdown",
   "id": "5ab18159-4539-4ef4-ab07-42cf4ab6ccec",
   "metadata": {},
   "source": [
    "(a) For the array: array = np.array([10, 52, 62, 16, 16, 54, 453]), find \n",
    "i. Sorted array \n",
    "\n",
    "ii. Indices of sorted array \n",
    "\n",
    "iii. 4 smallest elements\n",
    "\n",
    "iv. 5 largest elements\n",
    "\n",
    "(b) For the array: array = np.array([1.0, 1.2, 2.2, 2.0, 3.0, 2.0]), find \n",
    "\n",
    "i. Integer elements only \n",
    "\n",
    "ii. Float elements only\n",
    "\n"
   ]
  },
  {
   "cell_type": "code",
   "execution_count": 27,
   "id": "f7a58e41",
   "metadata": {},
   "outputs": [
    {
     "name": "stdout",
     "output_type": "stream",
     "text": [
      "[ 10  16  16  52  54  62 453]\n",
      "[0 3 4 1 5 2 6]\n",
      "[10 16 16 52]\n",
      "[ 16  52  54  62 453]\n"
     ]
    }
   ],
   "source": [
    "array= np.array([10, 52, 62, 16, 16, 54, 453])\n",
    "sorted_array=np.sort(array)\n",
    "print(sorted_array)\n",
    "print(np.argsort(array))\n",
    "print(np.sort(array)[:4])\n",
    "print(np.sort(array)[-5:])"
   ]
  },
  {
   "cell_type": "code",
   "execution_count": 28,
   "id": "dcd8e28c-d894-4023-9c17-06b3c8772156",
   "metadata": {},
   "outputs": [
    {
     "name": "stdout",
     "output_type": "stream",
     "text": [
      "[1. 2. 3. 2.]\n",
      "[1.2 2.2]\n"
     ]
    }
   ],
   "source": [
    "array = np.array([1.0, 1.2, 2.2, 2.0, 3.0, 2.0])\n",
    "print(array[np.floor(array)==array])\n",
    "print(array[np.floor(array)!=array])"
   ]
  },
  {
   "cell_type": "markdown",
   "id": "f45f8bf2-1d5d-4c6d-ba08-e5211b597c47",
   "metadata": {},
   "source": [
    "## Q4"
   ]
  },
  {
   "cell_type": "markdown",
   "id": "14981504-4afe-42ab-9041-dfd42198ac54",
   "metadata": {},
   "source": [
    "(a) Write a function named img_to_array(path) that reads an image from a specified path and \n",
    "save it as text file on local machine? (Note: use separate cases for RGB and Grey Scale \n",
    "images) \n",
    "\n",
    "(b) Load the saved file into jupyter notebook?"
   ]
  },
  {
   "cell_type": "code",
   "execution_count": 23,
   "id": "43283ffd-04e5-44cb-ae63-45afa39dffd3",
   "metadata": {},
   "outputs": [
    {
     "name": "stdout",
     "output_type": "stream",
     "text": [
      "RGB image saved as 'rgb_image.txt' and shape saved in 'rgb_shape.txt'\n",
      "Loaded RGB Image Array:\n",
      "[[[107 145 207]\n",
      "  [107 145 207]\n",
      "  [107 145 207]\n",
      "  ...\n",
      "  [ 63 131 206]\n",
      "  [ 63 131 206]\n",
      "  [ 62 130 205]]\n",
      "\n",
      " [[110 148 210]\n",
      "  [110 148 210]\n",
      "  [110 148 210]\n",
      "  ...\n",
      "  [ 64 132 207]\n",
      "  [ 64 132 207]\n",
      "  [ 64 132 207]]\n",
      "\n",
      " [[113 151 213]\n",
      "  [113 151 213]\n",
      "  [113 151 213]\n",
      "  ...\n",
      "  [ 67 135 208]\n",
      "  [ 66 134 207]\n",
      "  [ 66 134 207]]\n",
      "\n",
      " ...\n",
      "\n",
      " [[112 161 217]\n",
      "  [113 162 218]\n",
      "  [113 162 218]\n",
      "  ...\n",
      "  [ 42 136 200]\n",
      "  [ 42 136 200]\n",
      "  [ 42 136 200]]\n",
      "\n",
      " [[108 157 213]\n",
      "  [108 157 213]\n",
      "  [108 157 213]\n",
      "  ...\n",
      "  [ 36 131 195]\n",
      "  [ 36 131 195]\n",
      "  [ 36 131 195]]\n",
      "\n",
      " [[106 155 211]\n",
      "  [106 155 211]\n",
      "  [106 155 211]\n",
      "  ...\n",
      "  [ 31 129 194]\n",
      "  [ 31 129 194]\n",
      "  [ 31 129 194]]]\n"
     ]
    }
   ],
   "source": [
    "from PIL import Image\n",
    "import numpy as np\n",
    "import os\n",
    "\n",
    "def img_to_array(image_path):\n",
    "    image = Image.open(image_path)\n",
    "    image_array = np.array(image)\n",
    "    if len(image_array.shape) == 2:\n",
    "        np.savetxt(\"grayscale_image.txt\", image_array, fmt='%d')\n",
    "        print(\"Grayscale image saved as 'grayscale_image.txt'\")\n",
    "    else:\n",
    "        height, width, channels = image_array.shape\n",
    "        flattened = image_array.reshape(-1, channels)\n",
    "        np.savetxt(\"rgb_image.txt\", flattened, fmt='%d')\n",
    "        with open(\"rgb_shape.txt\", \"w\") as shape_file:\n",
    "            shape_file.write(f\"{height} {width}\")\n",
    "        print(\"RGB image saved as 'rgb_image.txt' and shape saved in 'rgb_shape.txt'\")\n",
    "\n",
    "def load_saved_image():\n",
    "    if os.path.exists(\"grayscale_image.txt\"):\n",
    "        grayscale = np.loadtxt(\"grayscale_image.txt\", dtype=int)\n",
    "        print(\"📥 Loaded Grayscale Image Array:\")\n",
    "        print(grayscale)\n",
    "        return grayscale\n",
    "    elif os.path.exists(\"rgb_image.txt\") and os.path.exists(\"rgb_shape.txt\"):\n",
    "        with open(\"rgb_shape.txt\", \"r\") as shape_file:\n",
    "            height, width = map(int, shape_file.read().split())\n",
    "        rgb_data = np.loadtxt(\"rgb_image.txt\", dtype=int).reshape(height, width, 3)\n",
    "        print(\"Loaded RGB Image Array:\")\n",
    "        print(rgb_data)\n",
    "        return rgb_data\n",
    "    else:\n",
    "        print(\"No saved image file found.\")\n",
    "        return None\n",
    "\n",
    "img_to_array(r\"C:\\Users\\kavis\\OneDrive\\Pictures\\download.jpeg\")\n",
    "loaded_image = load_saved_image()\n"
   ]
  },
  {
   "cell_type": "code",
   "execution_count": null,
   "id": "64ef5cce-1387-42a3-9ce6-96aa367072ef",
   "metadata": {},
   "outputs": [],
   "source": []
  }
 ],
 "metadata": {
  "kernelspec": {
   "display_name": "Python 3 (ipykernel)",
   "language": "python",
   "name": "python3"
  },
  "language_info": {
   "codemirror_mode": {
    "name": "ipython",
    "version": 3
   },
   "file_extension": ".py",
   "mimetype": "text/x-python",
   "name": "python",
   "nbconvert_exporter": "python",
   "pygments_lexer": "ipython3",
   "version": "3.13.5"
  }
 },
 "nbformat": 4,
 "nbformat_minor": 5
}
